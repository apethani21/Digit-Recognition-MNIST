{
 "cells": [
  {
   "cell_type": "markdown",
   "metadata": {},
   "source": [
    "## Feedforward deep neural network for digit recognition ##"
   ]
  },
  {
   "cell_type": "code",
   "execution_count": 2,
   "metadata": {},
   "outputs": [
    {
     "name": "stdout",
     "output_type": "stream",
     "text": [
      "Extracting ./data/train-images-idx3-ubyte.gz\n",
      "Extracting ./data/train-labels-idx1-ubyte.gz\n",
      "Extracting ./data/t10k-images-idx3-ubyte.gz\n",
      "Extracting ./data/t10k-labels-idx1-ubyte.gz\n"
     ]
    }
   ],
   "source": [
    "import tensorflow as tf\n",
    "import numpy as np\n",
    "import matplotlib.pyplot as plt\n",
    "\n",
    "from tensorflow.contrib.layers import fully_connected\n",
    "from tensorflow.examples.tutorials.mnist import input_data\n",
    "mnist = input_data.read_data_sets(\"./data/\")"
   ]
  },
  {
   "cell_type": "code",
   "execution_count": 6,
   "metadata": {},
   "outputs": [],
   "source": [
    "n_inputs = 28*28\n",
    "n_hidden1 = 512\n",
    "n_hidden2 = 512\n",
    "n_hidden3 = 512\n",
    "n_outputs = 10\n",
    "n_epochs = 25\n",
    "batch_size = 80"
   ]
  },
  {
   "cell_type": "code",
   "execution_count": 4,
   "metadata": {},
   "outputs": [],
   "source": [
    "X = tf.placeholder(tf.float32, shape = [None, n_inputs])\n",
    "y = tf.placeholder(tf.int64)"
   ]
  },
  {
   "cell_type": "code",
   "execution_count": 7,
   "metadata": {},
   "outputs": [],
   "source": [
    "hidden1 = fully_connected(X, n_hidden1)\n",
    "hidden2 = fully_connected(hidden1, n_hidden2)\n",
    "hidden3 = fully_connected(hidden2, n_hidden3)\n",
    "logits = fully_connected(hidden3, n_outputs, activation_fn = None)"
   ]
  },
  {
   "cell_type": "code",
   "execution_count": 8,
   "metadata": {},
   "outputs": [],
   "source": [
    "cross_entropy = tf.nn.sparse_softmax_cross_entropy_with_logits(labels = y, logits = logits)\n",
    "loss = tf.reduce_mean(cross_entropy)\n",
    "learning_rate = 0.01\n",
    "optimizer = tf.train.GradientDescentOptimizer(learning_rate)\n",
    "training_op = optimizer.minimize(loss)\n",
    "correct = tf.nn.in_top_k(predictions=logits, targets = y, k = 1)\n",
    "accuracy = tf.reduce_mean(tf.cast(correct, tf.float32))"
   ]
  },
  {
   "cell_type": "code",
   "execution_count": 9,
   "metadata": {},
   "outputs": [
    {
     "name": "stdout",
     "output_type": "stream",
     "text": [
      "======= Epoch: 1 ========\n",
      "Train accuracy: 0.975 | Test accuracy: 0.8982\n",
      "--------------------------------------------------\n",
      "======= Epoch: 2 ========\n",
      "Train accuracy: 0.925 | Test accuracy: 0.9143\n",
      "--------------------------------------------------\n",
      "======= Epoch: 3 ========\n",
      "Train accuracy: 0.9625 | Test accuracy: 0.9279\n",
      "--------------------------------------------------\n",
      "======= Epoch: 4 ========\n",
      "Train accuracy: 0.9375 | Test accuracy: 0.9344\n",
      "--------------------------------------------------\n",
      "======= Epoch: 5 ========\n",
      "Train accuracy: 0.9875 | Test accuracy: 0.9409\n",
      "--------------------------------------------------\n",
      "======= Epoch: 6 ========\n",
      "Train accuracy: 0.925 | Test accuracy: 0.9436\n",
      "--------------------------------------------------\n",
      "======= Epoch: 7 ========\n",
      "Train accuracy: 0.975 | Test accuracy: 0.9471\n",
      "--------------------------------------------------\n",
      "======= Epoch: 8 ========\n",
      "Train accuracy: 0.9625 | Test accuracy: 0.9505\n",
      "--------------------------------------------------\n",
      "======= Epoch: 9 ========\n",
      "Train accuracy: 0.9625 | Test accuracy: 0.9534\n",
      "--------------------------------------------------\n",
      "======= Epoch: 10 ========\n",
      "Train accuracy: 0.9375 | Test accuracy: 0.9548\n",
      "--------------------------------------------------\n",
      "======= Epoch: 11 ========\n",
      "Train accuracy: 0.95 | Test accuracy: 0.9572\n",
      "--------------------------------------------------\n",
      "======= Epoch: 12 ========\n",
      "Train accuracy: 0.975 | Test accuracy: 0.9606\n",
      "--------------------------------------------------\n",
      "======= Epoch: 13 ========\n",
      "Train accuracy: 0.975 | Test accuracy: 0.9622\n",
      "--------------------------------------------------\n",
      "======= Epoch: 14 ========\n",
      "Train accuracy: 0.9625 | Test accuracy: 0.9632\n",
      "--------------------------------------------------\n",
      "======= Epoch: 15 ========\n",
      "Train accuracy: 0.975 | Test accuracy: 0.9654\n",
      "--------------------------------------------------\n",
      "======= Epoch: 16 ========\n",
      "Train accuracy: 0.9625 | Test accuracy: 0.9671\n",
      "--------------------------------------------------\n",
      "======= Epoch: 17 ========\n",
      "Train accuracy: 1.0 | Test accuracy: 0.9664\n",
      "--------------------------------------------------\n",
      "======= Epoch: 18 ========\n",
      "Train accuracy: 1.0 | Test accuracy: 0.9687\n",
      "--------------------------------------------------\n",
      "======= Epoch: 19 ========\n",
      "Train accuracy: 0.975 | Test accuracy: 0.9703\n",
      "--------------------------------------------------\n",
      "======= Epoch: 20 ========\n",
      "Train accuracy: 0.9875 | Test accuracy: 0.9712\n",
      "--------------------------------------------------\n",
      "======= Epoch: 21 ========\n",
      "Train accuracy: 0.975 | Test accuracy: 0.9706\n",
      "--------------------------------------------------\n",
      "======= Epoch: 22 ========\n",
      "Train accuracy: 1.0 | Test accuracy: 0.9724\n",
      "--------------------------------------------------\n",
      "======= Epoch: 23 ========\n",
      "Train accuracy: 1.0 | Test accuracy: 0.9731\n",
      "--------------------------------------------------\n",
      "======= Epoch: 24 ========\n",
      "Train accuracy: 1.0 | Test accuracy: 0.9731\n",
      "--------------------------------------------------\n",
      "======= Epoch: 25 ========\n",
      "Train accuracy: 1.0 | Test accuracy: 0.9737\n",
      "--------------------------------------------------\n"
     ]
    }
   ],
   "source": [
    "with tf.Session() as sess:\n",
    "    ## Initializing the variables\n",
    "    tf.global_variables_initializer().run()\n",
    "    for epoch in range(n_epochs):\n",
    "        for iteration in range(mnist.train.num_examples // batch_size):\n",
    "            X_batch, y_batch = mnist.train.next_batch(batch_size)\n",
    "            sess.run(training_op, feed_dict={X: X_batch, y: y_batch})\n",
    "        acc_train = accuracy.eval(feed_dict={X: X_batch, y: y_batch})\n",
    "        acc_test = accuracy.eval(feed_dict={X: mnist.test.images, y: mnist.test.labels})\n",
    "        print(\"======= Epoch: {} ========\".format(epoch+1))\n",
    "        print(\"Train accuracy:\", acc_train, \"| Test accuracy:\", acc_test)\n",
    "        print(50*\"-\")"
   ]
  },
  {
   "cell_type": "code",
   "execution_count": null,
   "metadata": {},
   "outputs": [],
   "source": []
  }
 ],
 "metadata": {
  "kernelspec": {
   "display_name": "Python 3",
   "language": "python",
   "name": "python3"
  },
  "language_info": {
   "codemirror_mode": {
    "name": "ipython",
    "version": 3
   },
   "file_extension": ".py",
   "mimetype": "text/x-python",
   "name": "python",
   "nbconvert_exporter": "python",
   "pygments_lexer": "ipython3",
   "version": "3.6.5"
  }
 },
 "nbformat": 4,
 "nbformat_minor": 2
}
